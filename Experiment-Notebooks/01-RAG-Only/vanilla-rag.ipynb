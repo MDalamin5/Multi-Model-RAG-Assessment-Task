{
 "cells": [
  {
   "cell_type": "markdown",
   "id": "b5f8b263",
   "metadata": {},
   "source": [
    "# **Document Preprocessing**"
   ]
  },
  {
   "cell_type": "code",
   "execution_count": 15,
   "id": "47f14b29",
   "metadata": {},
   "outputs": [],
   "source": [
    "import warnings\n",
    "warnings.filterwarnings('ignore')"
   ]
  },
  {
   "cell_type": "code",
   "execution_count": 1,
   "id": "babf1d95",
   "metadata": {},
   "outputs": [],
   "source": [
    "from langchain_community.document_loaders import PyMuPDFLoader\n",
    "import re\n",
    "\n",
    "def clean_text(text: str) -> str:\n",
    "    text = re.sub(r\"\\s+\", \" \", text)          # collapses newlines/extra spaces\n",
    "    text = re.sub(r\"Page \\d+\",\"\", text)       # drop footers / headers\n",
    "    return text.strip()\n",
    "\n"
   ]
  },
  {
   "cell_type": "code",
   "execution_count": 2,
   "id": "4a645149",
   "metadata": {},
   "outputs": [
    {
     "data": {
      "text/plain": [
       "49"
      ]
     },
     "execution_count": 2,
     "metadata": {},
     "output_type": "execute_result"
    }
   ],
   "source": [
    "\n",
    "loader = PyMuPDFLoader(\"Bangla-Book/HSC26-Bangla1st-Paper.pdf\")\n",
    "raw_docs = loader.load()\n",
    "len(raw_docs)"
   ]
  },
  {
   "cell_type": "code",
   "execution_count": 3,
   "id": "1c2e67f6",
   "metadata": {},
   "outputs": [],
   "source": [
    "docs = [d for d in raw_docs if d.page_content.strip()]        # drop blanks\n",
    "for d in docs:\n",
    "    d.page_content = clean_text(d.page_content)"
   ]
  },
  {
   "cell_type": "code",
   "execution_count": 4,
   "id": "39b56f25",
   "metadata": {},
   "outputs": [
    {
     "data": {
      "text/plain": [
       "49"
      ]
     },
     "execution_count": 4,
     "metadata": {},
     "output_type": "execute_result"
    }
   ],
   "source": [
    "len(docs)"
   ]
  },
  {
   "cell_type": "code",
   "execution_count": 9,
   "id": "77d6a443",
   "metadata": {},
   "outputs": [
    {
     "name": "stdout",
     "output_type": "stream",
     "text": [
      "আমািকেকলাককিকেলতাটিব্সকন্তিসমস্ত ফুকলিভািআমাককর্নকব্দনকর্ি া র্দব্ািিনয নতহই াপর়্ে ার্িল।হাও াআকস, গন্ধপাই, পাতািিব্দশুর্ন— যকব্লআিএকটিমাত্রপা যফলািঅকপক্ষা—এমনসমক যসইএক পদকক্ষকপি দূিত্বটুকুএকমুহকতিঅসীমহই া উঠিল! এতর্দনযেপ্রর্তসন্ধযা আর্মর্ব্নুদাদািব্ার়্েকত র্গ াতঁাহাককঅজিিকর্ি াতুজল ার্িলাম! র্ব্নুদািব্ণিনািভাষাঅতযন্ত সংকীণিব্জল াইতঁািপ্রকতযককথাটি স্ফুজলকঙ্গিমকতাআমািমকনিমাঝখাকনআগুনজ্বাজল ার্দ ার্িল।ব্ুজঝ ার্িলাম যমক টিিরূপব্ক়োআিেি; র্কন্তুনাযদর্খলামতাহাককযচাকখ, নাযদর্খলামতািির্ব্, সমস্তইঅস্পষ্ট্হই াির্হল।ব্ার্হকি যতাযসধিা র্দলইনা, তাহাককমকনওআর্নকতপার্িলামনা—এইিনযমনযসর্দনকািযসইর্ব্ব্াহসভািযদ ালটািব্ার্হকি ভূকতিমকতাদীঘির্নশ্বাসযফজল াযব়্োইকতলার্গল। হর্িকিিকাকিশুর্ন ার্ি, যমক টিককআমািযফাকটাগ্রাফ যদখাকনাহই ার্িল।পিন্দকর্ি াকিব্ই-র্ক।নাকর্িব্ািযতাযকাকনা কািণনাই।আমািমনব্কল, যসির্ব্ তািযকাকনা-একটিব্াকেিমকধযলুকাকনাআকি।একলাঘকিদিিাব্ন্ধকর্ি াএক- একর্দনর্নিালা দুপুিকব্লা যসর্কযসটিখুজল াযদকখনা? েখনঝুঁর্ক াপর়্ে াযদকখতখনির্ব্টিিউপকির্কতািমুকখি দুইধাির্দ াএকলাচুলআর্স াপক়েনা? হঠাৎব্ার্হকিকািওপাক িিব্দপাইকলযসর্কতা়োতার়্েতািসুগন্ধ আঁচকলিমকধয ির্ব্টিককলুকাই াযফকলনা? র্দনো ।একটাব্ৎসিযগল।মামাযতালজ্জা র্ব্ব্াহসম্বকন্ধিকথাতুজলকতইপাকিননা।মািইোর্িল, আমািঅপমাকনি কথােখনসমাকিিযলাককভুজল াোইকব্তখনর্ব্ব্াকহিযচষ্ট্াযদর্খকব্ন। এর্দককআর্মশুর্নলামযসযমক িনার্কভাকলাপাত্রিুটি ার্িল, র্কন্তুযসপণকর্ি াকির্ব্ব্াহকর্িকব্না। শুর্ন াআমািমন পুলককিআকব্কিভর্ি াযগল।আর্মকেনা যদর্খকতলার্গলাম, যসভাকলাকর্ি াখা না; সন্ধযাহই াআকস, যসচুলব্ঁার্ধকত ভুজল াো ।তািব্াপতািমুকখিপাকনচানআিভাকব্ন, “আমািযমক র্দকনর্দকনএমনহই াোইকতকিযকন।” হঠাৎ যকাকনার্দনতািঘকিআর্স াযদকখন, যমক িদুইচক্ষুিকল ভিা।জিজ্ঞাাসাককিন, “মা, যতািকীহই াকিব্লু্আমাকক।” যমক তা়োতার়্েযচাকখিিলমুর্ি াব্কল, “কই, র্কিুইযতাহ র্নব্াব্া।”ব্াকপিএকযমক যে-ব্ক়োআদকিিযমক ।েখন অনাব্ৃষ্টিির্দকনফুকলিকুঁর়্েটিি মকতাযমক এককব্াকির্ব্মষিহই াপর়্ে াকিতখনব্াকপিপ্রাকণআিসর্হলনা।তখন অর্ভমানভাসাই ার্দ া র্তর্নিুটি াআর্সকলনআমাকদিদ্বাকি। তািপকি? তািপকিমকনিমকধযযসইযেকাকলািকেিধািাটাব্র্হকতকিযসযেনকাকলাসাকপিমকতারূপ ধর্ি াযফঁাস কর্ি াউঠিল।যসব্জলল, “যব্িযতা, আি-একব্াির্ব্ব্াকহিআসিসািাকনাযহাক, আকলা জ্বলুক, যদি-র্ব্কদকিিযলাককি র্নমন্ত্রণযহাক, তািপকিতুর্মব্কিিযটাপিপাক দজল াদলব্ললই াসভা িার়্ে াচজল াএকসা।” র্কন্তু, যেধািাটিযচাকখি িকলিমকতাশুভ্রযসিািহংকসিরূপধর্ি াব্জলল, “যেমন কর্ি াআর্মএকর্দনদম ন্তীিপুষ্পব্কনর্গ ার্িলাম, যতমর্ন কর্ি াআমাককএকব্ািউর়্ে াোইকতদাও— 12\n"
     ]
    }
   ],
   "source": [
    "print(docs[11].page_content)"
   ]
  },
  {
   "cell_type": "markdown",
   "id": "6fe7b286",
   "metadata": {},
   "source": [
    "## **Chunking the Documents**"
   ]
  },
  {
   "cell_type": "code",
   "execution_count": 10,
   "id": "61cb6f59",
   "metadata": {},
   "outputs": [],
   "source": [
    "from langchain_text_splitters import RecursiveCharacterTextSplitter\n",
    "splitter = RecursiveCharacterTextSplitter(\n",
    "    chunk_size = 700,\n",
    "    chunk_overlap = 200\n",
    ")"
   ]
  },
  {
   "cell_type": "code",
   "execution_count": 11,
   "id": "2b72e106",
   "metadata": {},
   "outputs": [
    {
     "data": {
      "text/plain": [
       "167"
      ]
     },
     "execution_count": 11,
     "metadata": {},
     "output_type": "execute_result"
    }
   ],
   "source": [
    "all_chunks = splitter.split_documents(documents=docs)\n",
    "len(all_chunks)"
   ]
  },
  {
   "cell_type": "code",
   "execution_count": 12,
   "id": "9187a7c9",
   "metadata": {},
   "outputs": [
    {
     "data": {
      "text/plain": [
       "'নাযেটাতাহাককিা়োই ার্ব্কিষকর্ি াযচাকখপর়্েকতপাকি।যসর্নকিিচার্ির্দককিসককলিযচক অর্ধক- িিনীগন্ধািশুভ্রমঞ্জিীিমকতাসিলব্ৃন্তটিিউপকিদঁা়োই া, যেগাকিফুটি াকিযসগািককযসএককব্াকি অর্তক্রমকর্ি াউঠি াকি।সকঙ্গদুটি-র্তনটিযিাকটাযিাকটাযমক র্িল, তাহার্দগককলই াতাহািহার্সএব্ং কথািআিঅন্তর্িলনা।আর্মহাকতএকখানাব্ইলই াযসর্দকককানপার্ত ািার্খ ার্িলাম।যেটুকুকাকন আর্সকতর্িলযসযতাসমস্তইযিকলমানুষকদিসকঙ্গযিকলমানুর্ষকথা।তাহাির্ব্কিষত্বএইযে, তাহািমকধয ব্ কসিতফাতর্কিুমাত্রর্িলনা- যিাকটাকদিসকঙ্গযসঅনা াকসএব্ংআনকন্দযিাকটাহই ার্গ ার্িল।সকঙ্গ কতকগজলির্ব্ও ালাযিকলকদিগকেিব্ই-তাহািইযকানএকটার্ব্কিষগেযিানাইব্ািিনযযমক িাতাহাকক ধর্ি াপর়্েল।এগের্নি তািার্ব্ি-পঁর্চিব্ািির্ন াকি।যমক কদিযকনযেএতআগ্রহতাহাব্ুজঝলাম।'"
      ]
     },
     "execution_count": 12,
     "metadata": {},
     "output_type": "execute_result"
    }
   ],
   "source": [
    "all_chunks[50].page_content"
   ]
  },
  {
   "cell_type": "markdown",
   "id": "7670e2a9",
   "metadata": {},
   "source": [
    "## **Embedding Model From HF**"
   ]
  },
  {
   "cell_type": "code",
   "execution_count": 13,
   "id": "63172e4e",
   "metadata": {},
   "outputs": [],
   "source": [
    "import os\n",
    "from dotenv import load_dotenv\n",
    "load_dotenv()\n",
    "\n",
    "os.environ[\"HF_TOKEN\"] = os.getenv(\"HF_TOKEN\")"
   ]
  },
  {
   "cell_type": "code",
   "execution_count": 16,
   "id": "8bae94cd",
   "metadata": {},
   "outputs": [],
   "source": [
    "from langchain_huggingface import HuggingFaceEmbeddings\n",
    "\n",
    "embeddings = HuggingFaceEmbeddings(model_name=\"sentence-transformers/all-mpnet-base-v2\")"
   ]
  },
  {
   "cell_type": "markdown",
   "id": "7dc8b67d",
   "metadata": {},
   "source": [
    "## **Pinecone Vector DB**"
   ]
  },
  {
   "cell_type": "code",
   "execution_count": 17,
   "id": "059680d0",
   "metadata": {},
   "outputs": [],
   "source": [
    "from pinecone import Pinecone\n",
    "os.environ[\"PINECONE_API_KEY\"] = os.getenv(\"PINECONE_API_KEY\")\n",
    "\n",
    "pinecone_api_key = os.getenv(\"PINECONE_API_KEY\")"
   ]
  },
  {
   "cell_type": "code",
   "execution_count": 18,
   "id": "16102fda",
   "metadata": {},
   "outputs": [],
   "source": [
    "pc = Pinecone(api_key=pinecone_api_key)"
   ]
  },
  {
   "cell_type": "code",
   "execution_count": 19,
   "id": "1c48899b",
   "metadata": {},
   "outputs": [],
   "source": [
    "from pinecone import ServerlessSpec ## you are not going to mange the server. and its managed by the cloud provider.\n",
    "## create index\n",
    "index_name = \"10ms-db-bangla-book\"\n",
    "\n",
    "if not pc.has_index(index_name):\n",
    "    pc.create_index(\n",
    "    name=index_name,\n",
    "    dimension=768,\n",
    "    metric=\"dotproduct\",\n",
    "    spec=ServerlessSpec(\n",
    "        cloud=\"aws\",\n",
    "        region=\"us-east-1\"\n",
    "    )\n",
    ")"
   ]
  },
  {
   "cell_type": "markdown",
   "id": "ecbbbaae",
   "metadata": {},
   "source": [
    "# **Load the db**"
   ]
  },
  {
   "cell_type": "code",
   "execution_count": 20,
   "id": "e982b1d4",
   "metadata": {},
   "outputs": [
    {
     "data": {
      "text/plain": [
       "<pinecone.db_data.index.Index at 0x13500028f50>"
      ]
     },
     "execution_count": 20,
     "metadata": {},
     "output_type": "execute_result"
    }
   ],
   "source": [
    "index = pc.Index(index_name)\n",
    "index"
   ]
  },
  {
   "cell_type": "code",
   "execution_count": 22,
   "id": "45a94358",
   "metadata": {},
   "outputs": [
    {
     "data": {
      "text/plain": [
       "<langchain_pinecone.vectorstores.PineconeVectorStore at 0x1350281a190>"
      ]
     },
     "execution_count": 22,
     "metadata": {},
     "output_type": "execute_result"
    }
   ],
   "source": [
    "from langchain_pinecone import PineconeVectorStore\n",
    "\n",
    "vector_store = PineconeVectorStore(index=index, embedding=embeddings)\n",
    "vector_store"
   ]
  },
  {
   "cell_type": "code",
   "execution_count": 23,
   "id": "e3b8f3f6",
   "metadata": {},
   "outputs": [
    {
     "data": {
      "text/plain": [
       "['de9b4479-cbb8-4eff-b05c-f5fd30f9fa65',\n",
       " '0ac78f03-feaa-4d9c-8af0-0188488255d7',\n",
       " '5d6cc80e-a28e-43e5-85c9-18f02a4c5ad9',\n",
       " '47bd67a0-7f2f-46e5-8aba-e47abd5f4db8',\n",
       " 'cac2c045-eb4c-4ba5-8f6f-765b0ae4428d',\n",
       " '9a745d63-be42-4966-be71-a8e73b6d4199',\n",
       " '768f886c-e795-4c08-8dde-416cf8927fb8',\n",
       " '376812a4-d784-434a-8632-7fb912a200ed',\n",
       " '73bfba10-640d-48db-8a82-fa140cc7b83b',\n",
       " 'ee95c7b0-31cc-4e6f-a04b-98fb369f7eb4',\n",
       " '1bec009d-4718-41dd-bcb4-d0d3c17b0fd3',\n",
       " '51b36ca7-29da-46bd-b68e-0bff4d1f4fc6',\n",
       " 'f17a2e82-4b91-4f6f-9403-cbfed3aced84',\n",
       " '72ead1bf-8245-4e66-94da-3f910fd94cf1',\n",
       " '1d5266a5-171b-401e-a2cc-97f5cc79eb3f',\n",
       " '7976eaff-0faf-4bd3-8b08-e5d3aed42764',\n",
       " 'b0fa9b90-3426-4f59-a140-47ac8afd4501',\n",
       " 'db46a564-116b-4d0b-8859-a5b1321e0abd',\n",
       " 'bb2d2e00-87d2-4b00-8f6b-d98b2ec9328f',\n",
       " '909c36f7-4455-4335-9244-736c67621747',\n",
       " '7e396a17-1593-4db1-8c25-2d1dd2eab9c3',\n",
       " '3df70b16-25ee-4ed9-8307-f15fd4c032ce',\n",
       " '561ebff6-5612-4dd8-8425-2b5123bf34e5',\n",
       " '15f55d7d-f868-481f-a22a-d3213cc802db',\n",
       " '15bbfa78-debc-4a60-931b-4384f40bd08f',\n",
       " 'c3d2f1e9-026f-418a-90de-17fe2242ffac',\n",
       " '259c1bde-0dd8-491c-9565-49a30a2f10d4',\n",
       " 'eab77560-8b9b-4f24-bebe-1c5868bac4da',\n",
       " 'c2e4bdd4-9a93-42cb-ac66-f72ea4d32bb4',\n",
       " '2cd60293-a0a4-4956-8cb2-033f94779ada',\n",
       " '2be44e2e-2507-4332-8621-a93a26355498',\n",
       " '9c898442-5a3e-424e-8840-118f7ff74205',\n",
       " '44919bfe-7fce-4109-9877-e360c4a08b0d',\n",
       " '34306a5c-17f4-4c86-8d99-b88dc6fef976',\n",
       " '3f577d23-9578-41a6-a3e4-8029bd08b9dc',\n",
       " 'f30f99c9-8025-4fa6-995f-7a0cfab90388',\n",
       " '7161fd77-485a-4662-9308-20b720d51487',\n",
       " 'e36ca3f7-e105-40be-a8f7-6fbfce51e43f',\n",
       " '1cb6d0e5-8580-419e-a33a-55970626e6a7',\n",
       " 'a617ca24-4702-415c-a198-5c29bb5ee4c9',\n",
       " '7ac52f9a-d5c5-478f-bb04-7e8b08812c6e',\n",
       " '803bd730-4b91-4611-92c7-5c56e62d1ad8',\n",
       " '541b66e7-8284-4532-9166-8096c3675e31',\n",
       " '4f968aad-ea38-492e-959a-96aafd1d7bd8',\n",
       " '89610c65-6e6f-42b5-a722-3738c0c9a62b',\n",
       " 'a3cf6eeb-37d0-4202-8b03-88b5a9ff04b9',\n",
       " '8a322743-7ef9-452b-adfd-b6187f26a847',\n",
       " 'fceda426-465a-4ace-a7f0-8d7110609225',\n",
       " '914f9527-582b-4876-bb0b-e503cce3a36d',\n",
       " '0d7c8e95-d5f6-4439-8ffd-7d695d5492c8',\n",
       " '41107c83-28de-4772-9698-7acfc1c67223',\n",
       " '6442e862-0741-40d5-a6c2-c02d8cf1cea7',\n",
       " 'd660f81c-e059-43c5-ac28-14a5b85bcb46',\n",
       " '435970b8-d1ae-4bf3-b520-8dd539e60e08',\n",
       " '04060085-ce13-4172-9d05-cc92173c60ec',\n",
       " 'aa204911-3137-42ee-ab1f-42575d164fc0',\n",
       " '18e7b077-dc8c-4731-adb1-447a789c293f',\n",
       " 'cec223a4-97f4-4bbc-b38b-8c4c080a81d2',\n",
       " '4c1757a8-7b50-4ea3-a9eb-5ff5453d8ba2',\n",
       " 'bae9e85e-d31c-48e5-bb23-409d7b8fe3db',\n",
       " '644fb680-f1cf-416c-b61f-300aa7d2a80e',\n",
       " '4c631a04-2c9c-4504-883a-661976cd6199',\n",
       " 'be4656ee-2241-43a5-9954-a77ddd0776b5',\n",
       " '0357026d-eed4-4f8e-b8d8-cb9041ad6207',\n",
       " 'a6f9e186-7592-4d2f-bb9d-1edd483419a8',\n",
       " '507154e9-ae89-43a8-bc1f-93bbcc3cd233',\n",
       " 'e5c6ef1f-564f-49ca-afba-2dc43580c147',\n",
       " '240682fc-fc74-47cc-b4b6-da34d0b72901',\n",
       " 'f46922c1-a4a3-4807-b474-9be7636fc5d8',\n",
       " 'c0572353-c4ff-44bf-bb73-50ab3c8af539',\n",
       " '27276d4e-7680-489c-bf8e-8a9a87bfcc6c',\n",
       " 'b26b6a12-ea7b-4a40-a3ca-af8faf157a99',\n",
       " '578aca2f-f122-4e26-93d2-56bd059d7def',\n",
       " '845f60be-057a-47a6-8b34-56d385e8ab5d',\n",
       " 'a5db2e96-c065-4634-810f-cf95dbbbfee0',\n",
       " '20e1ad4d-c573-4102-a04a-8e18c39b8079',\n",
       " 'e3f058cf-8931-4e92-b73f-81895db9a3b5',\n",
       " '38c39ad0-ef47-4e86-bf44-4d308e1463dc',\n",
       " '839f4919-f8f4-449d-acca-a785a68a1149',\n",
       " '11b12afc-4e03-462a-9e11-5ead18816e6e',\n",
       " '36fec023-2660-4e4f-9b79-4f829493a829',\n",
       " '412ac270-df56-47d7-9b3e-a4036ae0088e',\n",
       " 'a218bd1b-c7c3-45b8-a23c-1626132684a2',\n",
       " 'c0bc16e4-bfa7-417b-b2f0-7753a6d3d7aa',\n",
       " 'b75b0c14-a3ae-4cbe-bf6d-22d6c117d684',\n",
       " '681b0cd1-3fd7-47a1-9c6f-771df537a408',\n",
       " 'ee27f666-aa42-4635-99d5-ca0d5c37818e',\n",
       " '06e1902c-b5f9-444b-83f6-9af229297be0',\n",
       " 'ad5bdc86-7434-457b-b95b-15be0595d52c',\n",
       " 'a570ba23-cc88-49bc-8047-26a14e98336d',\n",
       " '888f80d9-0b1e-45cd-8d57-182c6f735f84',\n",
       " '8ca05cec-85a5-491a-bd0d-094945123741',\n",
       " '65425879-7709-4073-b309-ea7c9ee239f6',\n",
       " '8d7ffefa-20c7-4597-bb39-ed89d6dff295',\n",
       " '9bbd5e1a-65ea-4228-a5e6-f60dbc7787a8',\n",
       " '72c6a157-d438-422c-811e-94d416c9dfec',\n",
       " '8876d1f6-deab-4bab-8157-1ca4fcfba130',\n",
       " '45c50d43-6e54-4c70-8863-171552f8af25',\n",
       " '40372de8-e514-4af3-bd06-e0428ce26c72',\n",
       " '4de0facf-857b-4151-b211-9c30f39cf250',\n",
       " '7a5953ee-e9a4-49b9-980b-af0d7c36f12b',\n",
       " 'b8f2944f-a8e8-4e2b-a2c8-e1614b062d85',\n",
       " '25c7cc62-90c3-4c3b-b5d9-0c38121ebfe2',\n",
       " '3464c4ec-a626-4660-938d-10ed3fe92e25',\n",
       " 'e3525946-07d2-4118-bb81-53c57a435106',\n",
       " 'de655fcd-d958-4448-8dac-c2739935828b',\n",
       " '90bb0e53-f55a-47f5-91c4-5afeee1be84c',\n",
       " 'e5cdae17-0d71-4005-845a-9f3b564a9c86',\n",
       " '1d89c836-1ac3-4477-aef0-e3371086f740',\n",
       " 'd6178033-228e-485f-aa75-f91e0f5394d5',\n",
       " 'bfc35c75-e911-4d6f-8464-d6e208c0621f',\n",
       " 'c5b59e61-cbbd-4421-be93-0b5cc3ead8ad',\n",
       " '6550a234-58a6-44f6-837b-4c1bdd9d4b84',\n",
       " 'b3efd607-1cd5-4cc8-8be7-f2959a5deab0',\n",
       " 'a136afe3-a329-4b37-a137-cdd3d9c892b2',\n",
       " 'c5706cc3-87b4-46ee-a36b-8282c474f751',\n",
       " 'a1d65d6c-7536-4c48-882f-781c05e749be',\n",
       " '80aa7d0f-c0b0-497b-8156-8fdb1efecb39',\n",
       " 'e2e27693-6281-4495-b605-ddc38aedc239',\n",
       " '20839cc0-492c-4640-b054-b0df1a95a39c',\n",
       " '15b86481-bff8-4305-bb6b-80eedfd45b20',\n",
       " '29a66e6e-2641-47ec-b4b6-60c49919d2d8',\n",
       " 'dc71b7a7-32c5-4d8e-9128-31c1428e8cdf',\n",
       " '4f0adc9a-fc4e-4db5-be99-a74dd7db470c',\n",
       " '43d7ed6e-41e8-423f-8ab8-14d2e67093df',\n",
       " 'c9319c3d-c8d6-4604-b872-52e229d77fe4',\n",
       " 'f2c2d006-a66f-48d9-8d54-702f8e92ba68',\n",
       " '8f4dac55-58a8-49bf-88bb-3933f36f7dd0',\n",
       " '4ff00cba-bc68-4f26-ad75-3078d35baf51',\n",
       " 'e0101a92-6dc0-4b93-9231-a36cdca89cb5',\n",
       " '6f058748-1ee9-4de1-86d2-fc8aba007960',\n",
       " '379b799e-0da4-4a65-a609-cb3243a52b58',\n",
       " 'a87c6164-4c17-4009-ac28-10e5a375b831',\n",
       " '4df44849-d3d1-4787-98b3-59bdf3d88716',\n",
       " '77f484fa-e52b-46f9-81e8-9def8aac6fed',\n",
       " '120e7b6a-37c4-4d19-b7f6-7240e8045567',\n",
       " '611272c3-278b-43bc-b639-d1ff36572d53',\n",
       " '14fad39e-e8ad-4efa-9179-e3f9f3e5b5c0',\n",
       " '92ce4f44-9d7b-41c7-a01e-8014a056b27f',\n",
       " '4b00574b-4adc-4796-a8aa-55f9999825cf',\n",
       " 'c6687927-350f-4837-b3ac-fc0ad955a097',\n",
       " '7ca827ff-4358-41e3-9591-4bad21611f15',\n",
       " '868ded53-dd8c-4f0d-840f-67cce05e04e4',\n",
       " '6344c03f-4d7a-40cb-befc-e234c0c06f2d',\n",
       " '705d077d-b733-4f33-8797-085da5731e40',\n",
       " '001f2eee-f92a-47c8-b71b-9b0b47c09f82',\n",
       " 'f2989df2-8abd-477b-87a1-a3cbbececda1',\n",
       " '8b3e077a-0744-45ad-ae3c-dc721d2dfb8d',\n",
       " 'b259bd7f-74a6-4776-8c04-7eee92c68136',\n",
       " 'd8e2b248-a436-42c3-bd7c-4524b0f0f681',\n",
       " '3823162a-0c0c-4e81-85a8-8ac4966208d5',\n",
       " 'e85b8105-6123-49e6-b444-dc24d4274745',\n",
       " '4ddfee01-0340-4824-a493-c864778699c7',\n",
       " 'd30be48c-b6b7-4193-92c7-dbe5d421093f',\n",
       " '984055c2-37bf-442e-bb2b-234f422a1d23',\n",
       " 'bd412752-0e46-4fcd-899e-895ee0ce6d2d',\n",
       " '3b63bc33-4a7c-43fe-8e05-6eef2597d481',\n",
       " '14ed744b-d203-457f-ad1e-806e766255a0',\n",
       " '9f833065-db4d-4cbe-b6ff-469af19c05e2',\n",
       " '1a2cd2b2-2956-4798-8db3-3ab6d95a40a5',\n",
       " '92835b5f-d5ab-4cd9-93fb-2354b1a2c264',\n",
       " '38e7c87f-9ddb-4ef8-87ea-a5604c8e9b45',\n",
       " '65abb7d8-5ac4-4c59-b1f9-fb9e484820a2',\n",
       " '46aa7a2e-6392-4d98-a30a-8078fcd690a7',\n",
       " 'a9caa478-f6bc-4d0b-803e-1e0752e43a8c',\n",
       " 'fc8e91c7-0a4b-4960-a35b-43f3f579658f',\n",
       " '0f9e6636-f46b-437b-8f52-bad3831ba747']"
      ]
     },
     "execution_count": 23,
     "metadata": {},
     "output_type": "execute_result"
    }
   ],
   "source": [
    "vector_store.add_documents(documents=all_chunks)"
   ]
  },
  {
   "cell_type": "code",
   "execution_count": null,
   "id": "067071b6",
   "metadata": {},
   "outputs": [],
   "source": [
    "def format_docs(retriever_docs):\n",
    "    context_text = \"\\n\\n\".join(doc.page_content for doc in retriever_docs)\n",
    "    return context_text"
   ]
  },
  {
   "cell_type": "code",
   "execution_count": 21,
   "id": "defec52a",
   "metadata": {},
   "outputs": [],
   "source": [
    "from langchain.memory import VectorStoreRetrieverMemory"
   ]
  },
  {
   "cell_type": "code",
   "execution_count": 25,
   "id": "182e3991",
   "metadata": {},
   "outputs": [],
   "source": [
    "retriever = vector_store.as_retriever(\n",
    "    search_type = \"similarity\",\n",
    "    search_kwargs={\n",
    "        \"k\": 5\n",
    "    }\n",
    ")"
   ]
  },
  {
   "cell_type": "code",
   "execution_count": 26,
   "id": "15bb7f38",
   "metadata": {},
   "outputs": [
    {
     "data": {
      "text/plain": [
       "[Document(id='b26b6a12-ea7b-4a40-a3ca-af8faf157a99', metadata={'author': 'tariq@10minuteschool.com', 'creationDate': \"D:20240513163000+06'00'\", 'creationdate': '2024-05-13T16:30:00+06:00', 'creator': 'Microsoft® PowerPoint® for Microsoft 365', 'file_path': 'Bangla-Book/HSC26-Bangla1st-Paper.pdf', 'format': 'PDF 1.7', 'keywords': '', 'modDate': \"D:20240513163000+06'00'\", 'moddate': '2024-05-13T16:30:00+06:00', 'page': 19.0, 'producer': 'Microsoft® PowerPoint® for Microsoft 365', 'source': 'Bangla-Book/HSC26-Bangla1st-Paper.pdf', 'subject': '', 'title': 'PowerPoint Presentation', 'total_pages': 49.0, 'trapped': ''}, page_content=\"চাচাি সকঙ্গ ‘অপর্ির্চতা’ গকেি যকান চর্িকত্রি র্মল আকি? (ক) হর্িকিি (খ) মামাি (গ) র্িক্ষককি (ঘ) র্ব্নুি উিি: খ িযাখ্যা: অনুপকমি র্পতািমৃতুযিপিতািমামাইতাকদিপর্িব্াকিিদার্ ত্বযনন।পর্িব্াকিতািপ্রভাকব্ি কথাযব্াঝাকতইঅনুপমমামাকক'ভাগযকদব্তািপ্রধানএকিন্ট' ব্কল। 20 পাঠযপুস্তককি প্রে িহুরনিবািনী\"),\n",
       " Document(id='611272c3-278b-43bc-b639-d1ff36572d53', metadata={'author': 'tariq@10minuteschool.com', 'creationDate': \"D:20240513163000+06'00'\", 'creationdate': '2024-05-13T16:30:00+06:00', 'creator': 'Microsoft® PowerPoint® for Microsoft 365', 'file_path': 'Bangla-Book/HSC26-Bangla1st-Paper.pdf', 'format': 'PDF 1.7', 'keywords': '', 'modDate': \"D:20240513163000+06'00'\", 'moddate': '2024-05-13T16:30:00+06:00', 'page': 41.0, 'producer': 'Microsoft® PowerPoint® for Microsoft 365', 'source': 'Bangla-Book/HSC26-Bangla1st-Paper.pdf', 'subject': '', 'title': 'PowerPoint Presentation', 'total_pages': 49.0, 'trapped': ''}, page_content='গ্লেিঅনুপলেিোোিসােৃশযওবিসােৃশযরনরূপণ কলিা। ঘ. “উদ্দীপলকিঘটনারিলে‘অপরিরিতা’ গ্লেিখ্ণ্াাংশপ্ররতিল তহলয়লে” - উলক্তটিিতাৎপযব রিলেষণকলিা। ক. অনুপকমির্পসতুকতাভাইক িনাম- র্ব্নু। খ্. প্রকোক্তউজক্তটিকতব্াঙ্গাকথিযদব্তাকার্তিককিসকঙ্গঅনুপকমিতুলনাকিাহক কি।কদব্ীদুগিািদুইপুত্র- অগ্রিগকণিওঅনুিকার্তিকক ।যদব্ীদুগিািযকাকলযদৰযসনাপর্তকার্তিকক অপূব্িযিাভাপা ।ব্ক়ো হক ওঅনুপমকার্তিককিমকতামাক িকািাকার্িযথককমাতৃআজ্ঞাাপালকনব্যস্তথাকক।তাইপর্িণতব্ কসও তািস্বাধীনব্যজক্তকত্বির্ব্কািঘকটনা।পাঠযগকেিঅনুপমপর্িব্ািতকন্ত্রিকাকিঅসহা ওব্যজক্তত্বহীনএকটি চর্িত্র।উচ্চর্িজক্ষতহকলওতাির্নিস্বতাব্লকতর্কিুযনই।তাককযদখকলমকনহ আিওযসযেনমাক ি যকাকলথাকার্িশুমাত্র।এিনযইব্যক্তককিঅনুপমককগিানকনিযিাকটাভাইকার্তিককিসকঙ্গতুলনাকিা হক কি। গ্.'),\n",
       " Document(id='4b00574b-4adc-4796-a8aa-55f9999825cf', metadata={'author': 'tariq@10minuteschool.com', 'creationDate': \"D:20240513163000+06'00'\", 'creationdate': '2024-05-13T16:30:00+06:00', 'creator': 'Microsoft® PowerPoint® for Microsoft 365', 'file_path': 'Bangla-Book/HSC26-Bangla1st-Paper.pdf', 'format': 'PDF 1.7', 'keywords': '', 'modDate': \"D:20240513163000+06'00'\", 'moddate': '2024-05-13T16:30:00+06:00', 'page': 41.0, 'producer': 'Microsoft® PowerPoint® for Microsoft 365', 'source': 'Bangla-Book/HSC26-Bangla1st-Paper.pdf', 'subject': '', 'title': 'PowerPoint Presentation', 'total_pages': 49.0, 'trapped': ''}, page_content='র্ব্ক ব্ার়্েকতআকসন, যতমনর্ব্ষ উদ্দীপককিব্কিিব্াব্ািমাকঝযদখাো না।এিা়োঅনুপকমি মামাযমক িব্াব্াককযেভাকব্অপমানককিকি, যসর্ব্ষ টিওউদ্দীপককিব্কিিব্াব্ািমাকঝঅনুপজিত। সুতিাংব্লকতপার্ি, যেৌতুকককযকন্দ্রককিউভ ঘটনাআব্র্তিতহকলওউদ্দীপককিব্কিিব্াকপিসাকথ ‘অপর্ির্চতা’ গকেিঅনুপকমিমামািসাদৃিযওদব্সাদৃিযদুকটাইিক কি। 42 সোধান: সৃজনশী প্রশ্ন'),\n",
       " Document(id='92835b5f-d5ab-4cd9-93fb-2354b1a2c264', metadata={'author': 'tariq@10minuteschool.com', 'creationDate': \"D:20240513163000+06'00'\", 'creationdate': '2024-05-13T16:30:00+06:00', 'creator': 'Microsoft® PowerPoint® for Microsoft 365', 'file_path': 'Bangla-Book/HSC26-Bangla1st-Paper.pdf', 'format': 'PDF 1.7', 'keywords': '', 'modDate': \"D:20240513163000+06'00'\", 'moddate': '2024-05-13T16:30:00+06:00', 'page': 46.0, 'producer': 'Microsoft® PowerPoint® for Microsoft 365', 'source': 'Bangla-Book/HSC26-Bangla1st-Paper.pdf', 'subject': '', 'title': 'PowerPoint Presentation', 'total_pages': 49.0, 'trapped': ''}, page_content=\"যন । 'অপর্ির্চতা' গকেিঅনুপমের্দব্যজক্তত্বসম্পন্নেুব্কহকতাতাহকলকলযাণীলগ্নভ্রষ্ট্হকতানাএমনর্ক অনুপকমিওর্ব্ক িআসিযথককজফকিআসকতহকতানা।তাইব্লাো , 'অপর্ির্চতা' গকেিউশ্চদ্দষ্ট্চর্িত্রের্দ উদ্দীপককিপকিকিিমকতাহকতা, তাহকলগকেিপর্িণর্তর্ভন্নহকতা।\"),\n",
       " Document(id='de9b4479-cbb8-4eff-b05c-f5fd30f9fa65', metadata={'author': 'tariq@10minuteschool.com', 'creationDate': \"D:20240513163000+06'00'\", 'creationdate': '2024-05-13T16:30:00+06:00', 'creator': 'Microsoft® PowerPoint® for Microsoft 365', 'file_path': 'Bangla-Book/HSC26-Bangla1st-Paper.pdf', 'format': 'PDF 1.7', 'keywords': '', 'modDate': \"D:20240513163000+06'00'\", 'moddate': '2024-05-13T16:30:00+06:00', 'page': 0.0, 'producer': 'Microsoft® PowerPoint® for Microsoft 365', 'source': 'Bangla-Book/HSC26-Bangla1st-Paper.pdf', 'subject': '', 'title': 'PowerPoint Presentation', 'total_pages': 49.0, 'trapped': ''}, page_content='অনলাইন ব্যাচ সম্পর্কিত যেককাকনা জিজ্ঞাাসা , অপরিরিতা আল ািয রিষয় িাাং া ১ম পত্র')]"
      ]
     },
     "execution_count": 26,
     "metadata": {},
     "output_type": "execute_result"
    }
   ],
   "source": [
    "response = retriever.invoke(\"অনুপমের ভাষায় সুপুরুষ কাকে বলা হয়েছে?\")\n",
    "response"
   ]
  },
  {
   "cell_type": "markdown",
   "id": "cb57611e",
   "metadata": {},
   "source": [
    "## **Importing The LLMs**"
   ]
  },
  {
   "cell_type": "code",
   "execution_count": 27,
   "id": "5c3c6e47",
   "metadata": {},
   "outputs": [],
   "source": [
    "from langchain_groq import ChatGroq\n",
    "\n",
    "llm = ChatGroq(\n",
    "    model=os.getenv(\"LLAMA_MODEL\")\n",
    ")"
   ]
  },
  {
   "cell_type": "markdown",
   "id": "a1562c04",
   "metadata": {},
   "source": [
    "## **Rag Prompt**"
   ]
  },
  {
   "cell_type": "code",
   "execution_count": 30,
   "id": "0b32d7b5",
   "metadata": {},
   "outputs": [],
   "source": [
    "from langchain.prompts import PromptTemplate\n",
    "\n",
    "rag_prompt = PromptTemplate(\n",
    "    template=(\n",
    "        \"তুমি একজন সহায়ক বাংলা শিক্ষক। নিচের প্রশ্নটির উত্তর দিতে হবে শুধুমাত্র প্রদত্ত প্রাসঙ্গিক তথ্য ব্যবহার করে। \"\n",
    "        \"যদি প্রশ্নের উত্তর নিচের প্রসঙ্গে না থাকে, তাহলে বিনয়ের সাথে বলবে যে উত্তর দেওয়ার মতো পর্যাপ্ত তথ্য নেই। \"\n",
    "        \"অতিরিক্ত কিছু কল্পনা বা অনুমান করো না।\\n\\n\"\n",
    "\n",
    "        \"প্রাসঙ্গিক প্রসঙ্গ:\\n{context}\\n\\n\"\n",
    "        \"প্রশ্ন:\\n{question}\\n\\n\"\n",
    "        \"উত্তর (বাংলায় সংক্ষিপ্ত এবং স্পষ্টভাবে দিন):\"\n",
    "    ),\n",
    "    input_variables=[\"question\", \"context\"],\n",
    ")\n"
   ]
  },
  {
   "cell_type": "markdown",
   "id": "599c3014",
   "metadata": {},
   "source": [
    "## **Formatted the Context data**"
   ]
  },
  {
   "cell_type": "code",
   "execution_count": 31,
   "id": "c78ab187",
   "metadata": {},
   "outputs": [],
   "source": [
    "def format_docs(retriever_docs):\n",
    "    context_text = \"\\n\\n\".join(doc.page_content for doc in retriever_docs)\n",
    "    return context_text"
   ]
  },
  {
   "cell_type": "markdown",
   "id": "97dc15f2",
   "metadata": {},
   "source": [
    "## **Define the `RAG` Chain**"
   ]
  },
  {
   "cell_type": "code",
   "execution_count": 32,
   "id": "b6838288",
   "metadata": {},
   "outputs": [
    {
     "data": {
      "image/png": "[encoded data removed]",
      "text/plain": [
       "<IPython.core.display.Image object>"
      ]
     },
     "metadata": {},
     "output_type": "display_data"
    }
   ],
   "source": [
    "from langchain_core.output_parsers import StrOutputParser\n",
    "from langchain_core.runnables import RunnablePassthrough\n",
    "\n",
    "from IPython.display import display, Image\n",
    "rag_chain = (\n",
    "    {\n",
    "        \"context\": retriever | format_docs,\n",
    "        \"question\": RunnablePassthrough()\n",
    "    }\n",
    "    | rag_prompt\n",
    "    | llm\n",
    "    | StrOutputParser()\n",
    ")\n",
    "\n",
    "\n",
    "display(Image(rag_chain.get_graph().draw_mermaid_png()))"
   ]
  },
  {
   "cell_type": "code",
   "execution_count": 47,
   "id": "bd29de66",
   "metadata": {},
   "outputs": [
    {
     "data": {
      "text/plain": [
       "'অনুপমের ভাষায় সুপুরুষ বলতে বোঝানো হয়েছে- তার মামা।'"
      ]
     },
     "execution_count": 47,
     "metadata": {},
     "output_type": "execute_result"
    }
   ],
   "source": [
    "rag_chain.invoke(\"অনুপমের ভাষায় সুপুরুষ কাকে বলা হয়েছে?\")"
   ]
  },
  {
   "cell_type": "code",
   "execution_count": null,
   "id": "eeef7b88",
   "metadata": {},
   "outputs": [],
   "source": []
  }
 ],
 "metadata": {
  "kernelspec": {
   "display_name": "lang_aca",
   "language": "python",
   "name": "python3"
  },
  "language_info": {
   "codemirror_mode": {
    "name": "ipython",
    "version": 3
   },
   "file_extension": ".py",
   "mimetype": "text/x-python",
   "name": "python",
   "nbconvert_exporter": "python",
   "pygments_lexer": "ipython3",
   "version": "3.11.11"
  }
 },
 "nbformat": 4,
 "nbformat_minor": 5
}
