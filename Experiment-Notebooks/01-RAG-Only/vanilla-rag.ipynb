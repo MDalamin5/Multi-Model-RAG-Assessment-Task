{
 "cells": [
  {
   "cell_type": "markdown",
   "id": "b5f8b263",
   "metadata": {},
   "source": [
    "# **Document Preprocessing**"
   ]
  },
  {
   "cell_type": "code",
   "execution_count": 1,
   "id": "47f14b29",
   "metadata": {},
   "outputs": [],
   "source": [
    "import warnings\n",
    "warnings.filterwarnings('ignore')"
   ]
  },
  {
   "cell_type": "code",
   "execution_count": 2,
   "id": "fc9a4644",
   "metadata": {},
   "outputs": [
    {
     "name": "stdout",
     "output_type": "stream",
     "text": [
      "Successfully loaded the clean document.\n"
     ]
    }
   ],
   "source": [
    "# ingest_data.py (The CORRECTED version)\n",
    "\n",
    "import os\n",
    "from dotenv import load_dotenv\n",
    "\n",
    "from langchain_community.document_loaders import TextLoader # <-- The new, correct loader!\n",
    "from langchain.text_splitter import RecursiveCharacterTextSplitter\n",
    "from langchain_huggingface import HuggingFaceEmbeddings\n",
    "from langchain_pinecone import PineconeVectorStore\n",
    "\n",
    "# --- 1. Setup Environment ---\n",
    "load_dotenv()\n",
    "\n",
    "\n",
    "# The path to your final, clean text file\n",
    "CLEAN_TEXT_FILE_PATH = \"Bangla-Book/book-data.txt\" # <-- IMPORTANT\n",
    "\n",
    "# --- 2. Load the CLEAN Document ---\n",
    "loader = TextLoader(CLEAN_TEXT_FILE_PATH, encoding='utf-8')\n",
    "documents = loader.load()\n",
    "\n",
    "print(f\"Successfully loaded the clean document.\")\n",
    "# The 'documents' object will be a list with a single, large Document in it.\n",
    "\n",
    "\n"
   ]
  },
  {
   "cell_type": "markdown",
   "id": "6fe7b286",
   "metadata": {},
   "source": [
    "## **Chunking the Documents**"
   ]
  },
  {
   "cell_type": "code",
   "execution_count": 3,
   "id": "61cb6f59",
   "metadata": {},
   "outputs": [],
   "source": [
    "from langchain_text_splitters import RecursiveCharacterTextSplitter\n",
    "splitter = RecursiveCharacterTextSplitter(\n",
    "    chunk_size = 1000,\n",
    "    chunk_overlap = 100\n",
    ")"
   ]
  },
  {
   "cell_type": "code",
   "execution_count": 4,
   "id": "2b72e106",
   "metadata": {},
   "outputs": [
    {
     "data": {
      "text/plain": [
       "118"
      ]
     },
     "execution_count": 4,
     "metadata": {},
     "output_type": "execute_result"
    }
   ],
   "source": [
    "all_chunks = splitter.split_documents(documents=documents)\n",
    "len(all_chunks)"
   ]
  },
  {
   "cell_type": "code",
   "execution_count": 5,
   "id": "9187a7c9",
   "metadata": {},
   "outputs": [
    {
     "data": {
      "text/plain": [
       "\"**গ. অনুপম ও পারভেজের চারিত্রিক বৈশিষ্ট্যের বৈপরীত্য ব্যাখ্যা কর।**\\n**সমাধান:** অপরিচিতা' গল্পের অনুপম ও উদ্দীপকের পারভেজের চারিত্রিক বৈশিষ্ট্যে বৈপরীত্য দেখা যায়।\\nঅনেক যুবক আছে যারা উচ্চশিক্ষিত হলেও তাদের মানস সুগঠিত নয়। তারা নিজেদের সিদ্ধান্ত নিজেরা নিতে পারে না। পরিবারতন্ত্রের চাপে সিদ্ধান্তের জন্য পরিবারের কর্তাব্যক্তিদের ওপর নির্ভর করতে হয়। তাই বিয়ের মতো গুরুত্বপূর্ণ সিদ্ধান্তের ক্ষেত্রেও তারা পরিবারের পছন্দ-অপছন্দের ওপর নির্ভর করে।\""
      ]
     },
     "execution_count": 5,
     "metadata": {},
     "output_type": "execute_result"
    }
   ],
   "source": [
    "all_chunks[50].page_content"
   ]
  },
  {
   "cell_type": "markdown",
   "id": "7670e2a9",
   "metadata": {},
   "source": [
    "## **Embedding Model From HF**"
   ]
  },
  {
   "cell_type": "code",
   "execution_count": 6,
   "id": "63172e4e",
   "metadata": {},
   "outputs": [],
   "source": [
    "import os\n",
    "from dotenv import load_dotenv\n",
    "load_dotenv()\n",
    "\n",
    "os.environ[\"HF_TOKEN\"] = os.getenv(\"HF_TOKEN\")"
   ]
  },
  {
   "cell_type": "code",
   "execution_count": 7,
   "id": "c9caa5af",
   "metadata": {},
   "outputs": [],
   "source": [
    "import getpass\n",
    "import os\n",
    "\n",
    "if not os.environ.get(\"GOOGLE_API_KEY\"):\n",
    "  os.environ[\"GOOGLE_API_KEY\"] = os.getenv(\"GOOGLE_API_KEY\")\n",
    "\n",
    "from langchain_google_genai import GoogleGenerativeAIEmbeddings\n",
    "\n",
    "embeddings = GoogleGenerativeAIEmbeddings(model=\"models/embedding-001\")"
   ]
  },
  {
   "cell_type": "code",
   "execution_count": 8,
   "id": "8bae94cd",
   "metadata": {},
   "outputs": [],
   "source": [
    "# from langchain_huggingface import HuggingFaceEmbeddings\n",
    "\n",
    "# embeddings = HuggingFaceEmbeddings(model_name=\"sentence-transformers/all-MiniLM-L6-v2\")"
   ]
  },
  {
   "cell_type": "code",
   "execution_count": 9,
   "id": "a1cc8910",
   "metadata": {},
   "outputs": [
    {
     "data": {
      "text/plain": [
       "768"
      ]
     },
     "execution_count": 9,
     "metadata": {},
     "output_type": "execute_result"
    }
   ],
   "source": [
    "len(embeddings.embed_query(\"সময়\"))"
   ]
  },
  {
   "cell_type": "markdown",
   "id": "7dc8b67d",
   "metadata": {},
   "source": [
    "## **Pinecone Vector DB**"
   ]
  },
  {
   "cell_type": "code",
   "execution_count": 10,
   "id": "059680d0",
   "metadata": {},
   "outputs": [],
   "source": [
    "from pinecone import Pinecone\n",
    "os.environ[\"PINECONE_API_KEY\"] = os.getenv(\"PINECONE_API_KEY\")\n",
    "\n",
    "pinecone_api_key = os.getenv(\"PINECONE_API_KEY\")"
   ]
  },
  {
   "cell_type": "code",
   "execution_count": 11,
   "id": "16102fda",
   "metadata": {},
   "outputs": [],
   "source": [
    "pc = Pinecone(api_key=pinecone_api_key)"
   ]
  },
  {
   "cell_type": "code",
   "execution_count": 12,
   "id": "1c48899b",
   "metadata": {},
   "outputs": [],
   "source": [
    "from pinecone import ServerlessSpec ## you are not going to mange the server. and its managed by the cloud provider.\n",
    "## create index\n",
    "index_name = \"10ms-db-hsc-updated\"\n",
    "\n",
    "if not pc.has_index(index_name):\n",
    "    pc.create_index(\n",
    "    name=index_name,\n",
    "    dimension=768,\n",
    "    metric=\"cosine\",\n",
    "    spec=ServerlessSpec(\n",
    "        cloud=\"aws\",\n",
    "        region=\"us-east-1\"\n",
    "    )\n",
    ")"
   ]
  },
  {
   "cell_type": "markdown",
   "id": "ecbbbaae",
   "metadata": {},
   "source": [
    "# **Load the db**"
   ]
  },
  {
   "cell_type": "code",
   "execution_count": 13,
   "id": "e982b1d4",
   "metadata": {},
   "outputs": [
    {
     "data": {
      "text/plain": [
       "<pinecone.db_data.index.Index at 0x228e208c790>"
      ]
     },
     "execution_count": 13,
     "metadata": {},
     "output_type": "execute_result"
    }
   ],
   "source": [
    "index = pc.Index(index_name)\n",
    "index"
   ]
  },
  {
   "cell_type": "code",
   "execution_count": 14,
   "id": "45a94358",
   "metadata": {},
   "outputs": [
    {
     "data": {
      "text/plain": [
       "<langchain_pinecone.vectorstores.PineconeVectorStore at 0x228e0a76f90>"
      ]
     },
     "execution_count": 14,
     "metadata": {},
     "output_type": "execute_result"
    }
   ],
   "source": [
    "from langchain_pinecone import PineconeVectorStore\n",
    "\n",
    "vector_store = PineconeVectorStore(index=index, embedding=embeddings)\n",
    "vector_store"
   ]
  },
  {
   "cell_type": "code",
   "execution_count": 15,
   "id": "e3b8f3f6",
   "metadata": {},
   "outputs": [
    {
     "data": {
      "text/plain": [
       "['2404d67b-30b4-4273-b859-9c2d72f6db1e',\n",
       " 'b80275d0-0a47-4bc5-9a36-8b3922ccf5a5',\n",
       " '66870bfe-ecd1-4f7c-96e3-deaaf366bfab',\n",
       " 'f620bb76-9c4c-4140-83d6-36566fc4646c',\n",
       " '0e0b3adc-e1cd-45ab-a6ae-17a3defd330e',\n",
       " '548eccf5-3fe6-4c29-ba97-8fd24412fe82',\n",
       " 'bcb84248-5db3-4ebe-bb96-ee555cd8d528',\n",
       " '555e43cf-cb53-4d51-8a5b-df600b03d678',\n",
       " '948af0f4-1485-44e9-9c44-b4f4a1e468a7',\n",
       " '262970b0-b96f-4ab6-92ad-d7b418bdd185',\n",
       " 'cf4ab67c-1aa8-486a-8439-3705dba284b4',\n",
       " '604ee7b4-8542-4168-a3cb-88b604276806',\n",
       " '534673c6-7125-4279-832a-021aca7f49c5',\n",
       " '8bdd4de5-1482-44a5-a5c9-ae87a3bb9560',\n",
       " 'a08db54b-c25d-4bfc-9820-dba8998a0a5c',\n",
       " '305ba2ec-9034-462c-85c9-9d2e5a66c6be',\n",
       " '5821dd51-fcc4-4f85-a378-c7c2eb6f9abd',\n",
       " '2d19fac4-7077-45d5-ab7c-e63b340ccb58',\n",
       " '1e12d238-14b8-42b2-8f9a-24d0708b783f',\n",
       " 'dc758ab4-2539-4ba4-911b-134ffe418d0e',\n",
       " '9af1fc9c-e132-4962-842c-e92badeb4f27',\n",
       " 'de40dc95-284f-4e78-9610-f6c7081d5bb8',\n",
       " 'cd03bb8e-e4fa-4b55-913c-7d60a446b561',\n",
       " '217e6589-2e0c-4245-aabc-a9ecc946aefe',\n",
       " 'ea7a65dd-3ea3-4337-a9d4-92679bf8c30f',\n",
       " 'cf9fd1fa-b3e4-48cc-9501-41020b1d9e19',\n",
       " '11e59cfc-8a39-4af7-9071-6b0bd84fec69',\n",
       " '7c8725da-2f7c-4a0f-b0d6-6f89bc0bc8db',\n",
       " '9fdca10b-3b70-4941-9c45-c2d7bd39b38b',\n",
       " '4d52b49d-0b37-473e-9d8c-5d6df8db3387',\n",
       " '0ea7bf9c-15ae-4715-9ab0-ece6c6ad3cc0',\n",
       " '9cca3730-8e5c-4089-b3ca-532cafc8969a',\n",
       " 'bfadef93-abc5-4570-8f6d-e4e14fbdafde',\n",
       " '31cd79a7-f94f-4a5c-8426-c05a609d28e3',\n",
       " '05ec6cb1-8ee1-4c80-8af0-d04da34af403',\n",
       " 'bb655afe-2221-484d-8cd1-b6419d0ded2c',\n",
       " 'f7610d98-1445-4b70-9e9e-5b5bd887356b',\n",
       " 'a0c97ea8-5387-4ef6-9edd-044d453b5592',\n",
       " 'b1018cc9-d3f5-486d-9224-e583945353c5',\n",
       " '97dcbcab-3b07-41da-9077-bd032091a4b4',\n",
       " 'ff2435fa-0491-4d16-8f0a-01cb83a3bb2a',\n",
       " '22ba5ad7-edbb-45b1-9268-6c931d2ad7c9',\n",
       " '85c81cc9-e72b-4d10-8c2f-fdaf825d6571',\n",
       " '0327240b-2cdd-4e7d-93c4-b01a2b845217',\n",
       " '44565549-060f-4f76-8eed-bd44ba777be0',\n",
       " '401ee516-1c39-4544-a164-195a29b7265e',\n",
       " '8ac6b718-a429-4786-b38e-cb020521a850',\n",
       " 'd78644aa-0c22-4bbc-ab26-41c763f00cda',\n",
       " 'b23f52f3-b8d9-490e-83ca-f392c2c9b285',\n",
       " 'c6f7a935-5b2f-47e1-959d-6e1f4a86b6d4',\n",
       " '6e2abe85-a393-4c9b-839c-80c45b4884c0',\n",
       " '98b8c01e-a3fd-49fd-a5ea-8b46f29f67f2',\n",
       " '89754077-cb88-46f5-8fa4-7f0349c75bf0',\n",
       " '16c64659-6aa5-4254-a2fc-99e430ee71dc',\n",
       " 'e09fc332-de8f-4221-8396-e48572c326ad',\n",
       " 'f94c88da-1d25-45f3-aafe-33c85fa18093',\n",
       " '79668f62-0298-4f77-8ccb-0c166acfb503',\n",
       " 'c415ab1e-4190-44d6-ba9b-e8f7e9886520',\n",
       " '3cf423df-bcc6-43fa-98f7-22ada69bc0ac',\n",
       " '34a67100-c2e1-4c1d-a4c9-49e15512839a',\n",
       " 'a97fa425-8b0a-43a9-b70c-0c858bb6806f',\n",
       " 'a60ba589-38da-4ff8-b817-e38d60666320',\n",
       " 'f6e38ac7-29be-4008-a752-cfffd177dd5a',\n",
       " '3b0f9176-c521-4829-b59d-cd3991eb5606',\n",
       " 'e12d44bd-eaa4-4bd1-b227-f90fa616eb91',\n",
       " '0bf12081-a77a-4526-a324-e00ad2e5f9e8',\n",
       " '966ee01f-482c-437f-8a35-b1da26c87e92',\n",
       " '5f767a45-76b1-4a95-aff4-e3eb5da540c5',\n",
       " '9eeb7dc1-d011-445b-a000-495d7a6f3229',\n",
       " '930f4806-eb8d-41ba-8de0-46772d255650',\n",
       " '0bc05899-729e-4d56-b0ae-7ca83bcc75b6',\n",
       " '127677c2-9053-4658-9928-31960adf5691',\n",
       " 'cd33e694-07ab-47d0-9e03-4fb7b5acdd13',\n",
       " 'dc68ea54-4284-4b0c-ad7e-dfb6a33b3edc',\n",
       " 'd4995a9a-a308-4d2d-8fe3-1b3d7c105a81',\n",
       " 'caf1074e-efc9-4222-bc59-763d7221834e',\n",
       " '645dc281-02ec-4638-b4e8-fae5d53599be',\n",
       " 'be6bef5c-ecf4-4fb6-81f8-5696f3f5e42a',\n",
       " '2d6f51ef-6e72-4d5e-a775-d53ce16bfa4e',\n",
       " 'edc3fb3e-ddee-4548-8bbc-0c79764991a0',\n",
       " '9a1e928a-f4eb-45cc-bf91-4db4158fcf04',\n",
       " 'd5a39974-3725-460e-93cb-e0a695ac1a33',\n",
       " '1d2a09d3-65ed-4705-a773-1f1ee5c2eb7e',\n",
       " '75486ea9-1054-4989-b4b2-924ec908f8be',\n",
       " 'a4e5dfd7-1581-4b9c-8e33-8c7fbaacf004',\n",
       " '9d7a05bb-173b-4a86-8fd9-28df72dfcaa5',\n",
       " 'fff0e54d-aff7-47e3-8524-31a8a14ac268',\n",
       " '4c402fdf-df43-466f-a2e2-513da26363e6',\n",
       " 'a5ff798b-1d2d-4598-859c-e8830da8883f',\n",
       " 'e1f1c5d5-78a2-48c9-99ab-dddcbaf7af9e',\n",
       " 'b566dade-ac10-4018-93bc-aed6a39373ff',\n",
       " '6979a9aa-873d-4f6d-8d29-db18eefdfa72',\n",
       " 'fa1b77b2-edd3-449e-a43e-f42571f16011',\n",
       " 'b145845b-121b-47ef-9c4d-9e51a73da092',\n",
       " '49cdc8da-adf5-48d2-bc20-dc7793a1f45a',\n",
       " 'ce0dbdaa-f2d1-40c7-8a4f-f216de263473',\n",
       " '8430e5f5-2a14-4b01-ac38-5c9500edfddb',\n",
       " 'a2e7ec31-d108-43d1-99f1-3dc448004923',\n",
       " '63fe68bc-b9b0-4b94-a579-bff271811460',\n",
       " '0728479f-dcd6-4157-b5ab-1874dcdd436f',\n",
       " '958e9758-0ffa-427c-8380-ce914c7dba9b',\n",
       " '28441c04-2ab9-4943-bd7b-04ac6a5195f3',\n",
       " '8b04b41b-2b11-4d75-bff0-e7c0f8955c7a',\n",
       " '6eea7e4f-aedc-4ce1-9f09-266782ec825f',\n",
       " '3d1b0037-3a9e-4011-93b2-798b5265a415',\n",
       " '8ad591e8-71e9-4305-aefd-6a175b8b214e',\n",
       " '70f2abc9-57bc-49ff-92cc-8df06688d5d8',\n",
       " 'd0aed599-a477-414e-847f-4468e6ee6348',\n",
       " 'cba76dc8-ecaa-4286-a73b-27c74b941665',\n",
       " 'a068a77a-595b-421d-a004-35bd420072b3',\n",
       " 'f77ec00a-6054-47dc-a81a-7d5f6a9123d2',\n",
       " '59513f56-3019-48bc-8e80-bbc0dd224874',\n",
       " '5bf91ff9-94ae-46d8-acbe-11df0a7b5ace',\n",
       " 'd9ddfcc8-5503-47fe-be02-92c7fdc8a274',\n",
       " '308edfc1-9dec-4dfa-8ac4-b84bf841c295',\n",
       " '57fe2c41-108b-42f1-8a80-a01f1d501734',\n",
       " '80f35986-407c-4313-96c3-5e56048c255d',\n",
       " '0623397b-5f5a-4e90-ad76-19bb14b296cb']"
      ]
     },
     "execution_count": 15,
     "metadata": {},
     "output_type": "execute_result"
    }
   ],
   "source": [
    "vector_store.add_documents(documents=all_chunks)"
   ]
  },
  {
   "cell_type": "code",
   "execution_count": 16,
   "id": "067071b6",
   "metadata": {},
   "outputs": [],
   "source": [
    "def format_docs(retriever_docs):\n",
    "    context_text = \"\\n\\n\".join(doc.page_content for doc in retriever_docs)\n",
    "    return context_text"
   ]
  },
  {
   "cell_type": "code",
   "execution_count": 49,
   "id": "182e3991",
   "metadata": {},
   "outputs": [],
   "source": [
    "retriever = vector_store.as_retriever(\n",
    "    search_type = \"similarity\",\n",
    "    search_kwargs={\n",
    "        \"k\": 5\n",
    "    }\n",
    ")"
   ]
  },
  {
   "cell_type": "code",
   "execution_count": 50,
   "id": "15bb7f38",
   "metadata": {},
   "outputs": [
    {
     "data": {
      "text/plain": [
       "[Document(id='d0aed599-a477-414e-847f-4468e6ee6348', metadata={'source': 'Bangla-Book/book-data.txt'}, page_content=\"**গ. উদ্দীপকের পরেশ 'অপরিচিতা' গল্পের কোন চরিত্রের বিপরীত? ব্যাখ্যা কর।**\"),\n",
       " Document(id='a068a77a-595b-421d-a004-35bd420072b3', metadata={'source': 'Bangla-Book/book-data.txt'}, page_content=\"**ঘ. 'অপরিচিতা' গল্পের উদ্দিষ্ট চরিত্র যদি উদ্দীপকের পরেশের মতো হতো, তাহলে গল্পের পরিণতি কেমন হতো? বিশ্লেষণ কর।**\"),\n",
       " Document(id='b566dade-ac10-4018-93bc-aed6a39373ff', metadata={'source': 'Bangla-Book/book-data.txt'}, page_content=\"**গ. উদ্দীপকের বরের বাপের সাথে 'অপরিচিতা' গল্পের অনুপমের মামার সাদৃশ্য ও বৈসাদৃশ্য নিরূপণ করো।**\"),\n",
       " Document(id='57fe2c41-108b-42f1-8a80-a01f1d501734', metadata={'source': 'Bangla-Book/book-data.txt'}, page_content='মেয়েটি এবং কল্যাণী উভয়ই উভয়ের নির্ধারিত পাত্রের হৃদয়ে স্থান করে নিয়েছিল। তাই এ বিষয়টির মিল লক্ষ করা যায়।'),\n",
       " Document(id='d9ddfcc8-5503-47fe-be02-92c7fdc8a274', metadata={'source': 'Bangla-Book/book-data.txt'}, page_content='**গ. অনুপমের কল্পনায় অপরিচিতার সাথে উদ্দীপকের মেয়েটির তুলনা কর।**')]"
      ]
     },
     "execution_count": 50,
     "metadata": {},
     "output_type": "execute_result"
    }
   ],
   "source": [
    "response = retriever.invoke(\"বিয়ের সময় কল্যাণীর প্রকৃত বয়স কত ছিল?\")\n",
    "response"
   ]
  },
  {
   "cell_type": "markdown",
   "id": "cb57611e",
   "metadata": {},
   "source": [
    "## **Importing The LLMs**"
   ]
  },
  {
   "cell_type": "code",
   "execution_count": 51,
   "id": "5c3c6e47",
   "metadata": {},
   "outputs": [],
   "source": [
    "from langchain_groq import ChatGroq\n",
    "\n",
    "llm = ChatGroq(\n",
    "    model=os.getenv(\"LLAMA_MODEL\")\n",
    ")"
   ]
  },
  {
   "cell_type": "markdown",
   "id": "a1562c04",
   "metadata": {},
   "source": [
    "## **Rag Prompt**"
   ]
  },
  {
   "cell_type": "code",
   "execution_count": 52,
   "id": "0b32d7b5",
   "metadata": {},
   "outputs": [],
   "source": [
    "from langchain.prompts import PromptTemplate\n",
    "\n",
    "rag_prompt = PromptTemplate(\n",
    "    template=(\n",
    "        \"তুমি একজন সহায়ক বাংলা শিক্ষক। নিচের প্রশ্নটির উত্তর দিতে হবে শুধুমাত্র প্রদত্ত প্রাসঙ্গিক তথ্য ব্যবহার করে। \"\n",
    "        \"যদি প্রশ্নের উত্তর নিচের প্রসঙ্গে না থাকে, তাহলে বিনয়ের সাথে বলবে যে উত্তর দেওয়ার মতো পর্যাপ্ত তথ্য নেই। \"\n",
    "        \"অতিরিক্ত কিছু কল্পনা বা অনুমান করো না।\\n\\n\"\n",
    "\n",
    "        \"প্রাসঙ্গিক প্রসঙ্গ:\\n{context}\\n\\n\"\n",
    "        \"প্রশ্ন:\\n{question}\\n\\n\"\n",
    "        \"উত্তর (বাংলায় সংক্ষিপ্ত এবং স্পষ্টভাবে দিন):\"\n",
    "    ),\n",
    "    input_variables=[\"question\", \"context\"],\n",
    ")\n"
   ]
  },
  {
   "cell_type": "markdown",
   "id": "599c3014",
   "metadata": {},
   "source": [
    "## **Formatted the Context data**"
   ]
  },
  {
   "cell_type": "code",
   "execution_count": 53,
   "id": "c78ab187",
   "metadata": {},
   "outputs": [],
   "source": [
    "def format_docs(retriever_docs):\n",
    "    context_text = \"\\n\\n\".join(doc.page_content for doc in retriever_docs)\n",
    "    return context_text"
   ]
  },
  {
   "cell_type": "markdown",
   "id": "97dc15f2",
   "metadata": {},
   "source": [
    "## **Define the `RAG` Chain**"
   ]
  },
  {
   "cell_type": "code",
   "execution_count": 54,
   "id": "b6838288",
   "metadata": {},
   "outputs": [
    {
     "data": {
      "image/png": "[encoded data removed]",
      "text/plain": [
       "<IPython.core.display.Image object>"
      ]
     },
     "metadata": {},
     "output_type": "display_data"
    }
   ],
   "source": [
    "from langchain_core.output_parsers import StrOutputParser\n",
    "from langchain_core.runnables import RunnablePassthrough\n",
    "\n",
    "from IPython.display import display, Image\n",
    "rag_chain = (\n",
    "    {\n",
    "        \"context\": retriever | format_docs,\n",
    "        \"question\": RunnablePassthrough()\n",
    "    }\n",
    "    | rag_prompt\n",
    "    | llm\n",
    "    | StrOutputParser()\n",
    ")\n",
    "\n",
    "\n",
    "display(Image(rag_chain.get_graph().draw_mermaid_png()))"
   ]
  },
  {
   "cell_type": "code",
   "execution_count": 55,
   "id": "bd29de66",
   "metadata": {},
   "outputs": [
    {
     "name": "stdout",
     "output_type": "stream",
     "text": [
      "উদ্দীপকের নায়কের মতো অনুপমের বিরহের জন্য নিজের অক্ষমতাই দায়ী।\n",
      "\n",
      "পিতৃবিয়োগের পর থেকেই অনুপম বাইরে কাজ করে খায়। আর এজন্যই বয়স বাড়ার সাথে সাথে লোকের মুখে মুখে তার সম্বন্ধে নানা কথা শুনতে হয়। একসময় তার বয়সী ছেলের বিয়ে হয়ে যায়। এসব কারণে অনুপমের মনে বিয়ে নিয়ে ভীষণ উৎকণ্ঠার সৃষ্টি হয়। সে ভাবত, বিয়ে করলে নিশ্চয়ই কেউ না কেউ একটু খবর নিয়ে আসবে। খবর এনে শুনে নেবে। বিয়ের লগ্ন পাকাপাকি হলে হয়তো বা বাপের বাড়ির কেউ একজন লোক পাঠিয়ে দেবে। এভাবে সে লগ্নে এসেছে পালিয়ে।\n",
      "\n",
      "উদ্দীপকের নায়ক পরেশ বিয়ের লগ্নে গিয়ে পৌঁছলেও বিয়ে করতে পারেনি। কারণ তার মা বরপক্ষের চাহিদা পূরণ করতে না পারায় সে লজ্জায় ও ক্ষোভে পালিয়ে আসে। যেমন পরেশ ভাবছিল, 'আমি লগ্নে এসেছি পালিয়ে।' এখানে পরেশের অবস্থা অনুপমের মতোই। অনুপমের বিয়ে হয়নি বলে সে লগ্নে পালিয়ে এসেছে। পরেশের বিয়ে হয়নি বলে সে লগ্নে এসে পালিয়ে যাচ্ছে। এক্ষেত্রে দুজনের অবস্থান একই রকম।\n",
      "\n",
      "পরেশের মা-ই কন্যাপক্ষকে গহনার তালিকা দিয়েছিল। আর পরেশের বাবা গহনা কিনতে অসমর্থ হওয়ায় মায়ের অক্ষমতার জন্য সে লজ্জা ও ক্ষোভে পালিয়ে আসে। অন্যদিকে অনুপমের বিয়ে না হওয়ার জন্য সে নিজেই দায়ী। কেননা অনুপমের বাবা-মা তাকে বিয়ের যোগ্য বিবেচনা করেন না। ফলে বিয়ের প্রস্তাব এলে মেয়ের বাবা অপমানিত বোধ করেন। আর একারণেই মেয়ের বাবা অনুপমের মামাকে চরম আঘাত করে। ফলে অনুপম মেয়ের বাবার বাড়িতে যেতে পারে না। সুতরাং নিজের অক্ষমতার কারণেই অনুপমের বিয়ে হয়নি।\n",
      "\n",
      "উপরের আলোচনা থেকে বলা যায়, উদ্দীপকের নায়কের মতো অনুপমের বিরহের জন্য নিজের অক্ষমতাই দায়ী।\n"
     ]
    }
   ],
   "source": [
    "response = rag_chain.invoke(\"অপরিচিতা” প্রথম প্রকাশিত হয় প্রমথ চৌধুরী সম্পাদিত মাসিক 'সবুজপত্র' পত্রিকার ১৩২১ বঙ্গাব্দের (১৯১৪) কার্তিক সংখ্যায়।\")\n",
    "print(response)"
   ]
  },
  {
   "cell_type": "code",
   "execution_count": null,
   "id": "eeef7b88",
   "metadata": {},
   "outputs": [],
   "source": []
  }
 ],
 "metadata": {
  "kernelspec": {
   "display_name": "lang_aca",
   "language": "python",
   "name": "python3"
  },
  "language_info": {
   "codemirror_mode": {
    "name": "ipython",
    "version": 3
   },
   "file_extension": ".py",
   "mimetype": "text/x-python",
   "name": "python",
   "nbconvert_exporter": "python",
   "pygments_lexer": "ipython3",
   "version": "3.11.11"
  }
 },
 "nbformat": 4,
 "nbformat_minor": 5
}
